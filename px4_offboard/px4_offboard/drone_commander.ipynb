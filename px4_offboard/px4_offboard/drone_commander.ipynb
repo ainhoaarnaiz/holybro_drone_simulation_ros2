{
 "cells": [
  {
   "cell_type": "code",
   "execution_count": 51,
   "id": "8b757444",
   "metadata": {},
   "outputs": [
    {
     "name": "stdout",
     "output_type": "stream",
     "text": [
      "ROS 2 is available!\n"
     ]
    }
   ],
   "source": [
    "import rclpy\n",
    "print(\"ROS 2 is available!\")"
   ]
  },
  {
   "cell_type": "code",
   "execution_count": 1,
   "id": "aae2accf",
   "metadata": {},
   "outputs": [],
   "source": [
    "import rclpy\n",
    "from rclpy.node import Node\n",
    "from std_msgs.msg import Bool\n",
    "from geometry_msgs.msg import Twist\n",
    "from rclpy.qos import QoSProfile, QoSReliabilityPolicy, QoSDurabilityPolicy\n",
    "import math\n",
    "import time\n",
    "from px4_msgs.msg import TrajectorySetpoint\n",
    "from geometry_msgs.msg import Twist, Point\n",
    "from geometry_msgs.msg import PointStamped\n",
    "\n",
    "class DroneCommander(Node):\n",
    "    def __init__(self):\n",
    "        super().__init__('drone_commander')\n",
    "\n",
    "        qos_profile = QoSProfile(\n",
    "            reliability=QoSReliabilityPolicy.BEST_EFFORT,\n",
    "            durability=QoSDurabilityPolicy.TRANSIENT_LOCAL,\n",
    "            depth=1\n",
    "        )\n",
    "\n",
    "        self.arm_pub = self.create_publisher(Bool, '/arm_message', qos_profile)\n",
    "        self.position_pub = self.create_publisher(TrajectorySetpoint, '/position_goal', qos_profile)\n",
    "        self.vel_pub = self.create_publisher(Twist, '/offboard_velocity_cmd', qos_profile)\n",
    "        self.publisher = self.create_publisher(PointStamped, '/goal_point', qos_profile)\n",
    "\n",
    "    def publish_arm(self, value: bool):\n",
    "        msg = Bool()\n",
    "        msg.data = value\n",
    "        self.arm_pub.publish(msg)\n",
    "        self.get_logger().info(f\"Sent ARM: {value}\")\n",
    "\n",
    "    def publish_position_goal(self, x, y, z, yaw=None):\n",
    "        msg = TrajectorySetpoint()\n",
    "        msg.position = [x, y, z]\n",
    "        msg.velocity = [float('nan')] * 3\n",
    "        msg.acceleration = [float('nan')] * 3\n",
    "        msg.yaw = float('nan') if yaw is None else yaw\n",
    "        msg.yawspeed = 0.0\n",
    "        self.position_pub.publish(msg)\n",
    "        self.get_logger().info(f\"Published Position Goal: {[x, y, z]}\")\n",
    "    \n",
    "    def publish_velocity(self, vx: float, vy: float, vz: float, yaw_rate: float = 0.0):\n",
    "        twist = Twist()\n",
    "        twist.linear.x = vx\n",
    "        twist.linear.y = vy\n",
    "        twist.linear.z = vz\n",
    "        twist.angular.z = yaw_rate\n",
    "        self.vel_pub.publish(twist)\n",
    "        \n",
    "    def send_goal(self, x, y, z=1.0, frame='map'):\n",
    "        msg = PointStamped()\n",
    "        msg.header.frame_id = frame\n",
    "        msg.header.stamp = self.get_clock().now().to_msg()\n",
    "        msg.point.x = x\n",
    "        msg.point.y = y\n",
    "        msg.point.z = z\n",
    "        self.publisher.publish(msg)\n",
    "        print(f\"Sent goal: ({x}, {y}, {z}) in frame '{frame}'\")\n",
    "\n"
   ]
  },
  {
   "cell_type": "code",
   "execution_count": 2,
   "id": "5f589813",
   "metadata": {},
   "outputs": [],
   "source": [
    "# Shutdown any old instance\n",
    "try:\n",
    "    rclpy.shutdown()\n",
    "except:\n",
    "    pass\n",
    "\n",
    "# Init ROS\n",
    "rclpy.init()\n",
    "node = DroneCommander()\n",
    "rclpy.spin_once(node, timeout_sec=0.1)"
   ]
  },
  {
   "cell_type": "code",
   "execution_count": 83,
   "id": "c6ab61b8",
   "metadata": {},
   "outputs": [
    {
     "name": "stderr",
     "output_type": "stream",
     "text": [
      "[INFO] [1750150653.901802423] [drone_commander]: Sent ARM: True\n"
     ]
    }
   ],
   "source": [
    "### Arm\n",
    "node.publish_arm(True)\n",
    "rclpy.spin_once(node, timeout_sec=0.1)\n",
    "\n",
    "# Wait for drone to arm and takeoff sequence to finish\n",
    "time.sleep(10)"
   ]
  },
  {
   "cell_type": "code",
   "execution_count": 101,
   "id": "04e77336",
   "metadata": {},
   "outputs": [],
   "source": [
    "### Circle flight\n",
    "radius = 1.0  # meters/sec linear speed\n",
    "duration = 10.0  # seconds\n",
    "hz = 20\n",
    "steps = int(duration * hz)\n",
    "\n",
    "for i in range(steps):\n",
    "    t = i / hz\n",
    "    vx = radius * math.cos(2 * math.pi * t / duration)\n",
    "    vy = radius * math.sin(2 * math.pi * t / duration)\n",
    "    vz = 0.0\n",
    "    yaw_rate = 0.0\n",
    "    node.publish_velocity(vx, vy, vz, yaw_rate)\n",
    "    rclpy.spin_once(node, timeout_sec=0.01)\n",
    "    time.sleep(1 / hz)\n",
    "\n",
    "# Stop motion\n",
    "node.publish_velocity(0.0, 0.0, 0.0, 0.0)\n",
    "time.sleep(1)"
   ]
  },
  {
   "cell_type": "code",
   "execution_count": 99,
   "id": "a7fca376",
   "metadata": {},
   "outputs": [
    {
     "name": "stderr",
     "output_type": "stream",
     "text": [
      "[INFO] [1750152304.860142543] [drone_commander]: Published Position Goal: [1.0, 0.0, -4.0]\n"
     ]
    }
   ],
   "source": [
    "### Send a position goal\n",
    "x = 0.0\n",
    "y = 1.0\n",
    "z = 4.0\n",
    "node.publish_position_goal(x=y, y=x, z=-z)  # 3D position\n",
    "# Wait to reach goal\n",
    "time.sleep(10)"
   ]
  },
  {
   "cell_type": "code",
   "execution_count": null,
   "id": "02071553",
   "metadata": {},
   "outputs": [],
   "source": [
    "#sudo apt install ros-${ROS_DISTRO}-geographic-msgs\n",
    "#ros2 topic echo /fmu/out/vehicle_global_position (to get current GPS->STARTING POSTION OF DRONE IN SIMULATION)\n",
    "# new_lat = 47.3979715 + 0.00001  # ~1.11 meters north\n",
    "# new_lon = 8.5461636 + 0.00001   # ~0.74 meters east\n",
    "# new_alt = 2.0                   # 2 meters altitude\n"
   ]
  },
  {
   "cell_type": "code",
   "execution_count": null,
   "id": "f3a97266",
   "metadata": {},
   "outputs": [],
   "source": [
    "# # Publish GPS waypoint\n",
    "# node.publish_gps_waypoint(47.3979815, 8.5461736, 2.0)\n",
    "# time.sleep(10)"
   ]
  },
  {
   "cell_type": "code",
   "execution_count": 5,
   "id": "91358c84",
   "metadata": {},
   "outputs": [
    {
     "name": "stdout",
     "output_type": "stream",
     "text": [
      "Sent goal: (2.0, -2.0, 0.0) in frame 'map'\n"
     ]
    }
   ],
   "source": [
    "#Navigation Goal-> \"Direct Path Navigation\" or \"Quasi-Navigation\"\n",
    "node.send_goal(2.0,-2.0,0.0)\n",
    "rclpy.spin_once(node, timeout_sec=0.01)"
   ]
  },
  {
   "cell_type": "code",
   "execution_count": null,
   "id": "2b4bc69d",
   "metadata": {},
   "outputs": [],
   "source": [
    "### Disarm --> NOT WORKING\n",
    "# node.publish_arm(False)\n",
    "# rclpy.spin_once(node, timeout_sec=0.1)"
   ]
  },
  {
   "cell_type": "code",
   "execution_count": 11,
   "id": "2fd2e78e",
   "metadata": {},
   "outputs": [],
   "source": [
    "# Cleanup\n",
    "node.destroy_node()\n",
    "rclpy.shutdown()"
   ]
  }
 ],
 "metadata": {
  "kernelspec": {
   "display_name": "Python 3",
   "language": "python",
   "name": "python3"
  },
  "language_info": {
   "codemirror_mode": {
    "name": "ipython",
    "version": 3
   },
   "file_extension": ".py",
   "mimetype": "text/x-python",
   "name": "python",
   "nbconvert_exporter": "python",
   "pygments_lexer": "ipython3",
   "version": "3.10.12"
  }
 },
 "nbformat": 4,
 "nbformat_minor": 5
}
